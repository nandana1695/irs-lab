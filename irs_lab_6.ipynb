{
  "nbformat": 4,
  "nbformat_minor": 0,
  "metadata": {
    "colab": {
      "provenance": [],
      "authorship_tag": "ABX9TyPRQlyDsSxFWWFYRScSpF7O",
      "include_colab_link": true
    },
    "kernelspec": {
      "name": "python3",
      "display_name": "Python 3"
    },
    "language_info": {
      "name": "python"
    }
  },
  "cells": [
    {
      "cell_type": "markdown",
      "metadata": {
        "id": "view-in-github",
        "colab_type": "text"
      },
      "source": [
        "<a href=\"https://colab.research.google.com/github/nandana1695/irs-lab/blob/main/irs_lab_6.ipynb\" target=\"_parent\"><img src=\"https://colab.research.google.com/assets/colab-badge.svg\" alt=\"Open In Colab\"/></a>"
      ]
    },
    {
      "cell_type": "code",
      "execution_count": 1,
      "metadata": {
        "colab": {
          "base_uri": "https://localhost:8080/"
        },
        "id": "ocYLgPoKLqWa",
        "outputId": "c87a5b41-cdb9-42f0-cdc1-eb5978baf87b"
      },
      "outputs": [
        {
          "output_type": "stream",
          "name": "stderr",
          "text": [
            "[nltk_data] Downloading package punkt_tab to /root/nltk_data...\n",
            "[nltk_data]   Unzipping tokenizers/punkt_tab.zip.\n"
          ]
        },
        {
          "output_type": "execute_result",
          "data": {
            "text/plain": [
              "True"
            ]
          },
          "metadata": {},
          "execution_count": 1
        }
      ],
      "source": [
        "import nltk\n",
        "nltk.download('punkt_tab')"
      ]
    },
    {
      "cell_type": "code",
      "source": [
        "#Importing Required Libraries\n",
        "import nltk\n",
        "from nltk.util import ngrams\n",
        "from collections import defaultdict, Counter\n",
        "import random\n",
        "import string\n",
        "\n",
        "# Ensure punkt tokenizer models are downloaded\n",
        "nltk.download('punkt')\n",
        "\n",
        "# Sample text for demonstration\n",
        "sample_text = \"\"\"Natural language processing (NLP) is a subfield of linguistics, computer science, and artificial intelligence concerned with the interactions between computers and human (natural) languages.\n",
        "The ultimate objective of NLP is to understand, interpret, and generate human languages in a valuable way.\"\"\"\n",
        "\n",
        "# Function to preprocess text: lowercasing & removing punctuation\n",
        "def preprocess_text(text):\n",
        "    return text.lower().translate(str.maketrans('', '', string.punctuation))\n",
        "\n",
        "# Step 1: Tokenizing the sample text into words\n",
        "text = preprocess_text(sample_text)\n",
        "tokens = nltk.word_tokenize(text)\n",
        "\n",
        "# Step 2: N-gram generation class\n",
        "class NGramModel:\n",
        "    def __init__(self, n):\n",
        "        self.n = n\n",
        "        self.ngram_counts = None\n",
        "        self.context_counts = None\n",
        "\n",
        "    def train(self, tokens):\n",
        "        ngrams_list = list(ngrams(tokens, self.n))\n",
        "        self.ngram_counts = Counter(ngrams_list)\n",
        "        self.context_counts = Counter(tuple(ngram[:-1]) for ngram in ngrams_list)\n",
        "\n",
        "    def calculate_probability(self, sequence):\n",
        "        context = tuple(sequence[:-1])\n",
        "        word = sequence[-1]\n",
        "        ngram_count = self.ngram_counts.get(tuple(sequence), 0)\n",
        "        context_count = self.context_counts.get(context, 0)\n",
        "\n",
        "        if context_count > 0:\n",
        "            return ngram_count / context_count\n",
        "        return 0.0\n",
        "\n",
        "    def generate_text(self, seed_words, length):\n",
        "        current_state = seed_words[-(self.n-1):]\n",
        "        generated = list(current_state)\n",
        "\n",
        "        for _ in range(length):\n",
        "            possible_next_words = []\n",
        "            for ngram in self.ngram_counts.keys():\n",
        "                if ngram[:-1] == tuple(current_state):\n",
        "                    possible_next_words.append(ngram[-1])\n",
        "\n",
        "            if not possible_next_words:\n",
        "                break\n",
        "\n",
        "            next_word = random.choice(possible_next_words)\n",
        "            generated.append(next_word)\n",
        "            current_state = generated[-(self.n-1):]\n",
        "\n",
        "        return ' '.join(generated)\n",
        "\n",
        "# Initialize and train model\n",
        "trigram_model = NGramModel(n=3)\n",
        "trigram_model.train(tokens)\n",
        "\n",
        "# Example of calculating probability for a given sequence\n",
        "test_sequence = ['the', 'ultimate', 'objective']\n",
        "print(f\"Probability of {test_sequence}: {trigram_model.calculate_probability(test_sequence)}\")\n",
        "\n",
        "# Generate text\n",
        "generated_text = trigram_model.generate_text(['the', 'ultimate'], length=20)\n",
        "print(\"Generated Text:\", generated_text)"
      ],
      "metadata": {
        "colab": {
          "base_uri": "https://localhost:8080/"
        },
        "id": "XZb3AdQiLycr",
        "outputId": "541f6b4f-786c-4ca6-c137-8b8e1b065afc"
      },
      "execution_count": 2,
      "outputs": [
        {
          "output_type": "stream",
          "name": "stderr",
          "text": [
            "[nltk_data] Downloading package punkt to /root/nltk_data...\n",
            "[nltk_data]   Unzipping tokenizers/punkt.zip.\n"
          ]
        },
        {
          "output_type": "stream",
          "name": "stdout",
          "text": [
            "Probability of ['the', 'ultimate', 'objective']: 1.0\n",
            "Generated Text: the ultimate objective of nlp is to understand interpret and generate human languages in a valuable way\n"
          ]
        }
      ]
    },
    {
      "cell_type": "code",
      "source": [
        "import numpy as np\n",
        "import pandas as pd\n",
        "import matplotlib.pyplot as plt\n",
        "\n",
        "class VariableNGramModel:\n",
        "    def __init__(self, n):\n",
        "        self.n = n\n",
        "        self.ngram_models = {n: NGramModel(n) for n in range(1, n+1)}\n",
        "\n",
        "    def train(self, tokens):\n",
        "        for nmodel in self.ngram_models.values():\n",
        "            nmodel.train(tokens)\n",
        "\n",
        "    def calculate_probability(self, sequence):\n",
        "        n = len(sequence)\n",
        "        if n < 1 or n > 5:\n",
        "            raise ValueError(\"Sequence length must be between 1 and 5.\")\n",
        "        return self.ngram_models[n].calculate_probability(sequence)\n",
        "\n",
        "    def generate_text(self, seed_words, length):\n",
        "        n = len(seed_words)\n",
        "        if n < 1 or n > self.n:\n",
        "            raise ValueError(\"Seed words count must be between 1 and n.\")\n",
        "        return self.ngram_models[n].generate_text(seed_words, length)\n",
        "\n",
        "# Sample text (it can be improved to allow for larger datasets)\n",
        "tokens = nltk.word_tokenize(preprocess_text(sample_text))\n",
        "\n",
        "# Train model for N-gram sizes 1-5\n",
        "ngram_model = VariableNGramModel(n=5)\n",
        "ngram_model.train(tokens)\n",
        "\n",
        "# Performance analysis\n",
        "probabilities = []\n",
        "for n in range(1, 6):\n",
        "    seq = tokens[:n]  # Just taking the first n tokens as example\n",
        "    prob = ngram_model.calculate_probability(seq)\n",
        "    probabilities.append(prob)\n",
        "\n",
        "# DataFrame for better visualization\n",
        "df = pd.DataFrame({'N-gram Size': range(1, 6), 'Probability': probabilities})\n",
        "\n",
        "# Plotting performance comparison\n",
        "plt.figure(figsize=(10, 5))\n",
        "plt.bar(df['N-gram Size'].astype(str), df['Probability'])\n",
        "plt.title('N-gram Size vs Probability')\n",
        "plt.xlabel('N-gram Size')\n",
        "plt.ylabel('Probability')\n",
        "plt.grid()\n",
        "plt.show()"
      ],
      "metadata": {
        "colab": {
          "base_uri": "https://localhost:8080/",
          "height": 487
        },
        "id": "sQ984c7nMFwW",
        "outputId": "e2f74ffa-e09e-4048-b829-c58a11d5d1ac"
      },
      "execution_count": 3,
      "outputs": [
        {
          "output_type": "display_data",
          "data": {
            "text/plain": [
              "<Figure size 1000x500 with 1 Axes>"
            ],
            "image/png": "[encoded data removed]"
          },
          "metadata": {}
        }
      ]
    },
    {
      "cell_type": "code",
      "source": [
        "import random\n",
        "import nltk\n",
        "import string\n",
        "from nltk.util import ngrams\n",
        "from collections import Counter, defaultdict\n",
        "\n",
        "def preprocess_text(text):\n",
        "    text = text.lower()\n",
        "    text = text.translate(str.maketrans('', '', string.punctuation))\n",
        "    tokens = nltk.word_tokenize(text)\n",
        "    return tokens\n",
        "\n",
        "def generate_ngrams(tokens, n):\n",
        "    return list(ngrams(tokens, n))\n",
        "\n",
        "def compute_ngram_frequencies(tokens):\n",
        "    unigram_freq = Counter(generate_ngrams(tokens, 1))\n",
        "    bigram_freq = Counter(generate_ngrams(tokens, 2))\n",
        "    trigram_freq = Counter(generate_ngrams(tokens, 3))\n",
        "    return unigram_freq, bigram_freq, trigram_freq\n",
        "\n",
        "# Example Usage\n",
        "if __name__ == \"__main__\":\n",
        "    sample_text = \"This is a simple example text for N-gram tokenization. This example is simple.\"\n",
        "    tokens = preprocess_text(sample_text)\n",
        "    unigram_freq, bigram_freq, trigram_freq = compute_ngram_frequencies(tokens)\n",
        "\n",
        "    print(\"Unigrams:\", unigram_freq)\n",
        "    print(\"Bigrams:\", bigram_freq)\n",
        "    print(\"Trigrams:\", trigram_freq)\n"
      ],
      "metadata": {
        "colab": {
          "base_uri": "https://localhost:8080/"
        },
        "id": "RBkEmnlFMMlH",
        "outputId": "570316a9-1cce-4a06-998c-1f072f0db775"
      },
      "execution_count": 4,
      "outputs": [
        {
          "output_type": "stream",
          "name": "stdout",
          "text": [
            "Unigrams: Counter({('this',): 2, ('is',): 2, ('simple',): 2, ('example',): 2, ('a',): 1, ('text',): 1, ('for',): 1, ('ngram',): 1, ('tokenization',): 1})\n",
            "Bigrams: Counter({('this', 'is'): 1, ('is', 'a'): 1, ('a', 'simple'): 1, ('simple', 'example'): 1, ('example', 'text'): 1, ('text', 'for'): 1, ('for', 'ngram'): 1, ('ngram', 'tokenization'): 1, ('tokenization', 'this'): 1, ('this', 'example'): 1, ('example', 'is'): 1, ('is', 'simple'): 1})\n",
            "Trigrams: Counter({('this', 'is', 'a'): 1, ('is', 'a', 'simple'): 1, ('a', 'simple', 'example'): 1, ('simple', 'example', 'text'): 1, ('example', 'text', 'for'): 1, ('text', 'for', 'ngram'): 1, ('for', 'ngram', 'tokenization'): 1, ('ngram', 'tokenization', 'this'): 1, ('tokenization', 'this', 'example'): 1, ('this', 'example', 'is'): 1, ('example', 'is', 'simple'): 1})\n"
          ]
        }
      ]
    },
    {
      "cell_type": "code",
      "source": [
        "import random\n",
        "import nltk\n",
        "import string\n",
        "from nltk.util import ngrams\n",
        "from collections import Counter, defaultdict\n",
        "\n",
        "def preprocess_text(text):\n",
        "    text = text.lower()\n",
        "    text = text.translate(str.maketrans('', '', string.punctuation))\n",
        "    tokens = nltk.word_tokenize(text)\n",
        "    return tokens\n",
        "\n",
        "def generate_ngrams(tokens, n):\n",
        "    return list(ngrams(tokens, n))\n",
        "\n",
        "def compute_ngram_frequencies(tokens):\n",
        "    unigram_freq = Counter(generate_ngrams(tokens, 1))\n",
        "    bigram_freq = Counter(generate_ngrams(tokens, 2))\n",
        "    trigram_freq = Counter(generate_ngrams(tokens, 3))\n",
        "    return unigram_freq, bigram_freq, trigram_freq\n",
        "\n",
        "# Example Usage\n",
        "if __name__ == \"__main__\":\n",
        "    sample_text = \"This is a simple example text for N-gram tokenization. This example is simple.\"\n",
        "    tokens = preprocess_text(sample_text)\n",
        "    unigram_freq, bigram_freq, trigram_freq = compute_ngram_frequencies(tokens)\n",
        "\n",
        "    print(\"Unigrams:\", unigram_freq)\n",
        "    print(\"Bigrams:\", bigram_freq)\n",
        "    print(\"Trigrams:\", trigram_freq)\n"
      ],
      "metadata": {
        "colab": {
          "base_uri": "https://localhost:8080/"
        },
        "id": "mSW0M4-NMQLj",
        "outputId": "b77c395c-00fd-47ec-e618-3606c1874b03"
      },
      "execution_count": 6,
      "outputs": [
        {
          "output_type": "stream",
          "name": "stdout",
          "text": [
            "Unigrams: Counter({('this',): 2, ('is',): 2, ('simple',): 2, ('example',): 2, ('a',): 1, ('text',): 1, ('for',): 1, ('ngram',): 1, ('tokenization',): 1})\n",
            "Bigrams: Counter({('this', 'is'): 1, ('is', 'a'): 1, ('a', 'simple'): 1, ('simple', 'example'): 1, ('example', 'text'): 1, ('text', 'for'): 1, ('for', 'ngram'): 1, ('ngram', 'tokenization'): 1, ('tokenization', 'this'): 1, ('this', 'example'): 1, ('example', 'is'): 1, ('is', 'simple'): 1})\n",
            "Trigrams: Counter({('this', 'is', 'a'): 1, ('is', 'a', 'simple'): 1, ('a', 'simple', 'example'): 1, ('simple', 'example', 'text'): 1, ('example', 'text', 'for'): 1, ('text', 'for', 'ngram'): 1, ('for', 'ngram', 'tokenization'): 1, ('ngram', 'tokenization', 'this'): 1, ('tokenization', 'this', 'example'): 1, ('this', 'example', 'is'): 1, ('example', 'is', 'simple'): 1})\n"
          ]
        }
      ]
    }
  ]
}