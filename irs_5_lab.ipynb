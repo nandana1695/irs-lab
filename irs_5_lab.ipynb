{
  "nbformat": 4,
  "nbformat_minor": 0,
  "metadata": {
    "colab": {
      "provenance": [],
      "authorship_tag": "ABX9TyPLGOZHouSJX8kvsyn11d6f",
      "include_colab_link": true
    },
    "kernelspec": {
      "name": "python3",
      "display_name": "Python 3"
    },
    "language_info": {
      "name": "python"
    }
  },
  "cells": [
    {
      "cell_type": "markdown",
      "metadata": {
        "id": "view-in-github",
        "colab_type": "text"
      },
      "source": [
        "<a href=\"https://colab.research.google.com/github/nandana1695/irs-lab/blob/main/irs_5_lab.ipynb\" target=\"_parent\"><img src=\"https://colab.research.google.com/assets/colab-badge.svg\" alt=\"Open In Colab\"/></a>"
      ]
    },
    {
      "cell_type": "code",
      "execution_count": 1,
      "metadata": {
        "colab": {
          "base_uri": "https://localhost:8080/"
        },
        "id": "PMlteQFzOxIo",
        "outputId": "f7ea9223-4b2e-4b0a-8576-76c02b913fc1"
      },
      "outputs": [
        {
          "output_type": "stream",
          "name": "stderr",
          "text": [
            "[nltk_data] Downloading package wordnet to /root/nltk_data...\n",
            "[nltk_data] Downloading package omw-1.4 to /root/nltk_data...\n",
            "[nltk_data] Downloading package punkt to /root/nltk_data...\n",
            "[nltk_data]   Unzipping tokenizers/punkt.zip.\n"
          ]
        },
        {
          "output_type": "execute_result",
          "data": {
            "text/plain": [
              "True"
            ]
          },
          "metadata": {},
          "execution_count": 1
        }
      ],
      "source": [
        "import nltk\n",
        "from nltk.stem import WordNetLemmatizer\n",
        "from nltk.tokenize import word_tokenize\n",
        "from nltk.corpus import wordnet\n",
        "\n",
        "# Download necessary datasets\n",
        "nltk.download('wordnet')\n",
        "nltk.download('omw-1.4')\n",
        "nltk.download('punkt')"
      ]
    },
    {
      "cell_type": "code",
      "source": [
        "lemmatizer = WordNetLemmatizer()\n",
        "\n",
        "words = [\"running\", \"happier\", \"flies\", \"unbelievable\", \"replaying\"]\n",
        "\n",
        "for word in words:\n",
        "    lemma = lemmatizer.lemmatize(word, pos='v')  # 'v' for verbs\n",
        "    print(f\"Word: {word} -> Lemma: {lemma}\")"
      ],
      "metadata": {
        "id": "CrUn_VD6PKVp"
      },
      "execution_count": null,
      "outputs": []
    },
    {
      "cell_type": "code",
      "source": [
        "import re\n",
        "\n",
        "prefixes = [\"un\", \"re\", \"pre\", \"mis\", \"dis\", \"non\", \"in\", \"im\", \"ir\", \"il\"]\n",
        "suffixes = [\"ing\", \"ed\", \"s\", \"es\", \"er\", \"est\", \"ly\", \"ment\", \"ness\", \"able\"]\n",
        "\n",
        "def analyze_morphology(word):\n",
        "    root = word\n",
        "    prefix_found, suffix_found = \"\", \"\"\n",
        "\n",
        "    # Check for prefixes\n",
        "    for prefix in prefixes:\n",
        "        if word.startswith(prefix):\n",
        "            prefix_found = prefix\n",
        "            root = word[len(prefix):]\n",
        "            break\n",
        "\n",
        "    # Check for suffixes\n",
        "    for suffix in suffixes:\n",
        "        if word.endswith(suffix):\n",
        "            suffix_found = suffix\n",
        "            root = root[:-len(suffix)]\n",
        "            break\n",
        "\n",
        "    return {\"Word\": word, \"Prefix\": prefix_found, \"Root\": root, \"Suffix\": suffix_found}\n",
        "\n",
        "words = [\"unbelievable\", \"replaying\", \"happiness\", \"disapprove\", \"running\"]\n",
        "\n",
        "for word in words:\n",
        "    print(analyze_morphology(word))"
      ],
      "metadata": {
        "colab": {
          "base_uri": "https://localhost:8080/"
        },
        "id": "POgQ-RdvPNK2",
        "outputId": "0c213e39-ab6e-48fe-fe02-4cf2cbc0ddd5"
      },
      "execution_count": 2,
      "outputs": [
        {
          "output_type": "stream",
          "name": "stdout",
          "text": [
            "{'Word': 'unbelievable', 'Prefix': 'un', 'Root': 'believ', 'Suffix': 'able'}\n",
            "{'Word': 'replaying', 'Prefix': 're', 'Root': 'play', 'Suffix': 'ing'}\n",
            "{'Word': 'happiness', 'Prefix': '', 'Root': 'happines', 'Suffix': 's'}\n",
            "{'Word': 'disapprove', 'Prefix': 'dis', 'Root': 'approve', 'Suffix': ''}\n",
            "{'Word': 'running', 'Prefix': '', 'Root': 'runn', 'Suffix': 'ing'}\n"
          ]
        }
      ]
    },
    {
      "cell_type": "code",
      "source": [
        "import spacy\n",
        "\n",
        "nlp = spacy.load(\"en_core_web_sm\")\n",
        "\n",
        "word = \"replaying\"\n",
        "doc = nlp(word)\n",
        "\n",
        "for token in doc:\n",
        "    print(f\"Word: {token.text}\")\n",
        "    print(f\"Lemma: {token.lemma_}\")\n",
        "    print(f\"Morphology: {token.morph}\")"
      ],
      "metadata": {
        "colab": {
          "base_uri": "https://localhost:8080/"
        },
        "id": "DSmgVMRlPRgF",
        "outputId": "79f22a99-cc49-43c1-c6f4-62be7ce2e82d"
      },
      "execution_count": 3,
      "outputs": [
        {
          "output_type": "stream",
          "name": "stdout",
          "text": [
            "Word: replaying\n",
            "Lemma: replay\n",
            "Morphology: Aspect=Prog|Tense=Pres|VerbForm=Part\n"
          ]
        }
      ]
    }
  ]
}